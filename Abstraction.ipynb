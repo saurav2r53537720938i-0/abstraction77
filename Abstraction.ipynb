{
 "cells": [
  {
   "cell_type": "code",
   "execution_count": 2,
   "id": "8c4cece0-bc87-431f-8cb5-b30ed91159be",
   "metadata": {},
   "outputs": [],
   "source": [
    "import abc\n",
    "class pwskills:\n",
    "    @abc.abstractmethod\n",
    "    def student_details(self):\n",
    "        pass\n",
    "    @abc.abstractmethod\n",
    "    def student_assignment(self):\n",
    "        pass\n",
    "    @abc.abstractmethod\n",
    "    def student_marks(self):\n",
    "        pass"
   ]
  },
  {
   "cell_type": "code",
   "execution_count": 3,
   "id": "bb3847b6-9a1c-4acd-aa7b-bf85a0d0c794",
   "metadata": {},
   "outputs": [],
   "source": [
    "class student_details(pwskills):\n",
    "    \n",
    "    def student_details(self):\n",
    "        return\"this is amethod for taking student details\"\n",
    "    \n",
    "    def student_assignment(self):\n",
    "        return\"this is a math for assign detail for a particular student\""
   ]
  },
  {
   "cell_type": "code",
   "execution_count": 4,
   "id": "a15916b1-034c-4597-be8c-422ba0157e75",
   "metadata": {},
   "outputs": [],
   "source": [
    "class data_science_master(pwskills):\n",
    "    \n",
    "    def student_details(self):\n",
    "        return\"this will return a student detail for data science master\""
   ]
  },
  {
   "cell_type": "code",
   "execution_count": 5,
   "id": "455d76c2-bffd-41ad-8b48-7401dadd5a3d",
   "metadata": {},
   "outputs": [],
   "source": [
    "def student_assignment(self):\n",
    "    return\"this will give you a student assignment detail for data sciencemaster\""
   ]
  },
  {
   "cell_type": "code",
   "execution_count": 6,
   "id": "558f3509-2893-4cb8-96ff-12635c87cd8d",
   "metadata": {},
   "outputs": [
    {
     "data": {
      "text/plain": [
       "'this will return a student detail for data science master'"
      ]
     },
     "execution_count": 6,
     "metadata": {},
     "output_type": "execute_result"
    }
   ],
   "source": [
    "dsm = data_science_master()\n",
    "dsm.student_details()"
   ]
  },
  {
   "cell_type": "code",
   "execution_count": 8,
   "id": "1f62a64c-1d0c-48d3-8a64-63aa1640a06e",
   "metadata": {},
   "outputs": [
    {
     "data": {
      "text/plain": [
       "'this is amethod for taking student details'"
      ]
     },
     "execution_count": 8,
     "metadata": {},
     "output_type": "execute_result"
    }
   ],
   "source": [
    "sd = student_details()\n",
    "sd.student_details()"
   ]
  },
  {
   "cell_type": "code",
   "execution_count": null,
   "id": "df400de7-344f-40e2-aaf4-fa36753623b5",
   "metadata": {},
   "outputs": [],
   "source": []
  }
 ],
 "metadata": {
  "kernelspec": {
   "display_name": "Python 3 (ipykernel)",
   "language": "python",
   "name": "python3"
  },
  "language_info": {
   "codemirror_mode": {
    "name": "ipython",
    "version": 3
   },
   "file_extension": ".py",
   "mimetype": "text/x-python",
   "name": "python",
   "nbconvert_exporter": "python",
   "pygments_lexer": "ipython3",
   "version": "3.10.8"
  }
 },
 "nbformat": 4,
 "nbformat_minor": 5
}
